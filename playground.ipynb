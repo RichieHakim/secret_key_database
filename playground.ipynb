{
 "cells": [
  {
   "cell_type": "code",
   "execution_count": 14,
   "metadata": {},
   "outputs": [],
   "source": [
    "import secret_key_database as skd"
   ]
  },
  {
   "cell_type": "code",
   "execution_count": 15,
   "metadata": {},
   "outputs": [],
   "source": [
    "## Set a path for the database file\n",
    "path_db = './database.db'"
   ]
  },
  {
   "cell_type": "code",
   "execution_count": 16,
   "metadata": {},
   "outputs": [],
   "source": [
    "# Create a new database file\n",
    "db = skd.database.create_database(path_db)"
   ]
  },
  {
   "cell_type": "code",
   "execution_count": 18,
   "metadata": {},
   "outputs": [],
   "source": [
    "# Add a new key to the database file\n",
    "skd.add_key_to_database(\n",
    "    path_db=path_db,\n",
    "    name='key_name',\n",
    "    metadata='use your password about your favorite thing',\n",
    ")"
   ]
  },
  {
   "cell_type": "code",
   "execution_count": null,
   "metadata": {},
   "outputs": [
    {
     "data": {
      "text/plain": [
       "['key_name']"
      ]
     },
     "execution_count": 19,
     "metadata": {},
     "output_type": "execute_result"
    }
   ],
   "source": [
    "# Check out all the available key names in the database file\n",
    "print(skd.database.get_names_from_database(\n",
    "    path_db='./database.db'\n",
    "))"
   ]
  },
  {
   "cell_type": "code",
   "execution_count": 20,
   "metadata": {},
   "outputs": [
    {
     "data": {
      "text/plain": [
       "[{'name': 'key_name',\n",
       "  'id': '40ac4563-2d11-4eb2-a41d-ebd3c06a334e',\n",
       "  'encrypted_key': b'0\\xccGY3\\x99\\xa8\\xf2e1?\\xd4N\\xd0\\x99Y\\xb1\\xa6\\xf1\\x11\\xd8\\xcc\\xc3\\x03h\\xe9\\xa0Y\\xa7cB',\n",
       "  'salt': b\"\\x8d!\\xa0'\\xe2<T\\xea&3\\xb4%S\\xa9y\\xa8\",\n",
       "  'nonce': b'o\\r\\xb8\\x84k,\\x14\\xc2\\x9a\\xf1\\xf0\\xdf',\n",
       "  'algorithm': 'PBKDF2HMAC-SHA256, AES-GCM',\n",
       "  'iterations': 100000,\n",
       "  'key_length': 32,\n",
       "  'date': '2025-04-08 15:55:47',\n",
       "  'version': '0.1.3',\n",
       "  'metadata': 'use your password about your favorite thing'}]"
      ]
     },
     "execution_count": 20,
     "metadata": {},
     "output_type": "execute_result"
    }
   ],
   "source": [
    "# Check out all the raw data in the database file\n",
    "skd.database.get_all_data_from_database(\n",
    "    path_db='./database.db'\n",
    ")"
   ]
  },
  {
   "cell_type": "code",
   "execution_count": 21,
   "metadata": {},
   "outputs": [
    {
     "name": "stdout",
     "output_type": "stream",
     "text": [
      "Key: 1234!@#$%APIKEY\n"
     ]
    }
   ],
   "source": [
    "# Get a key from the database file\n",
    "key = skd.get_key_from_database(\n",
    "    path_db=path_db,\n",
    "    name='key_name',\n",
    ")\n",
    "\n",
    "print(f'Key: {key}')"
   ]
  },
  {
   "cell_type": "code",
   "execution_count": 22,
   "metadata": {},
   "outputs": [],
   "source": [
    "# Add a second key to the database file\n",
    "skd.add_key_to_database(\n",
    "    path_db=path_db,\n",
    "    name='key_name2',\n",
    "    metadata='use your password about your favorite thing',\n",
    ")"
   ]
  },
  {
   "cell_type": "code",
   "execution_count": 24,
   "metadata": {},
   "outputs": [
    {
     "name": "stdout",
     "output_type": "stream",
     "text": [
      "['key_name', 'key_name2']\n"
     ]
    }
   ],
   "source": [
    "# Check out all the available key names in the database file\n",
    "print(skd.database.get_names_from_database(\n",
    "    path_db='./database.db'\n",
    "))"
   ]
  }
 ],
 "metadata": {
  "kernelspec": {
   "display_name": "fr",
   "language": "python",
   "name": "python3"
  },
  "language_info": {
   "codemirror_mode": {
    "name": "ipython",
    "version": 3
   },
   "file_extension": ".py",
   "mimetype": "text/x-python",
   "name": "python",
   "nbconvert_exporter": "python",
   "pygments_lexer": "ipython3",
   "version": "3.11.11"
  }
 },
 "nbformat": 4,
 "nbformat_minor": 2
}
